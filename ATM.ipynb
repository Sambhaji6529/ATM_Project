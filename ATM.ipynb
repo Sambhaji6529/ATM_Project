{
  "nbformat": 4,
  "nbformat_minor": 0,
  "metadata": {
    "colab": {
      "provenance": [],
      "authorship_tag": "ABX9TyPFmWKTn/8sFKOaK/6g505X",
      "include_colab_link": true
    },
    "kernelspec": {
      "name": "python3",
      "display_name": "Python 3"
    },
    "language_info": {
      "name": "python"
    }
  },
  "cells": [
    {
      "cell_type": "markdown",
      "metadata": {
        "id": "view-in-github",
        "colab_type": "text"
      },
      "source": [
        "<a href=\"https://colab.research.google.com/github/Sambhaji6529/ATM_Project/blob/main/ATM.ipynb\" target=\"_parent\"><img src=\"https://colab.research.google.com/assets/colab-badge.svg\" alt=\"Open In Colab\"/></a>"
      ]
    },
    {
      "cell_type": "code",
      "execution_count": 5,
      "metadata": {
        "colab": {
          "base_uri": "https://localhost:8080/"
        },
        "id": "87lzo-7RzajN",
        "outputId": "31f2585c-c03c-43e6-9279-4ca5923564bc"
      },
      "outputs": [
        {
          "output_type": "stream",
          "name": "stdout",
          "text": [
            "Enter your card number456789\n",
            "Please Insert Your Card\n",
            "Please Enter Your Pin1234\n",
            "\n",
            "              1==balance\n",
            "              2==withdrawal Amount\n",
            "              3==deposite balance\n",
            "              4==change your pin\n",
            "              5==exit \n",
            "Please Enter your choice1\n",
            "your caurrent balance is5000\n",
            "\n",
            "              1==balance\n",
            "              2==withdrawal Amount\n",
            "              3==deposite balance\n",
            "              4==change your pin\n",
            "              5==exit \n",
            "Please Enter your choice2\n",
            "please enter withdraw amount500\n",
            "500 is debited from your account\n",
            "your updated caurrent balance is 4500\n",
            "\n",
            "              1==balance\n",
            "              2==withdrawal Amount\n",
            "              3==deposite balance\n",
            "              4==change your pin\n",
            "              5==exit \n",
            "Please Enter your choice3\n",
            "please enter deposite amount1000\n",
            "1000 is debited from your account\n",
            "your updated caurrent balance is 5500\n",
            "\n",
            "              1==balance\n",
            "              2==withdrawal Amount\n",
            "              3==deposite balance\n",
            "              4==change your pin\n",
            "              5==exit \n",
            "Please Enter your choice4\n",
            "Enter here new pin1245\n",
            "your pin has been sucessfully change!\n",
            "\n",
            "              1==balance\n",
            "              2==withdrawal Amount\n",
            "              3==deposite balance\n",
            "              4==change your pin\n",
            "              5==exit \n",
            "Please Enter your choice5\n",
            "Thank You!\n"
          ]
        }
      ],
      "source": [
        "n=int(input(\"Enter your card number\"))\n",
        "print(\"Please Insert Your Card\")\n",
        "pwd=1234\n",
        "pin=int(input(\"Please Enter Your Pin\"))\n",
        "balance=5000\n",
        "if pin==pwd:\n",
        " while True:\n",
        "    print(\"\"\"\n",
        "              1==balance\n",
        "              2==withdrawal Amount\n",
        "              3==deposite balance\n",
        "              4==change your pin\n",
        "              5==exit \"\"\")\n",
        " \n",
        "    try:\n",
        "        option=int(input(\"Please Enter your choice\"))\n",
        "    except:\n",
        "        print(\"Please Enter The Valid Choice\")\n",
        "\n",
        "    if option == 1:\n",
        "        print(f\"your caurrent balance is{balance}\")\n",
        "\n",
        "    if option == 2:\n",
        "        withdraw_amount = int(input(\"please enter withdraw amount\"))\n",
        "        balance = balance - withdraw_amount\n",
        "        print(f\"{withdraw_amount} is debited from your account\")\n",
        "        print(f\"your updated caurrent balance is {balance}\")\n",
        "\n",
        "    if option == 3:\n",
        "        deposite_amount = int(input(\"please enter deposite amount\"))\n",
        "        balance = balance + deposite_amount\n",
        "        print(f\"{deposite_amount} is debited from your account\")\n",
        "        print(f\"your updated caurrent balance is {balance}\")\n",
        "\n",
        "\n",
        "    if option == 4:\n",
        "        change_pin = int(input(\"Enter here new pin\"))\n",
        "        if change_pin>=0:\n",
        "            print(\"your pin has been sucessfully change!\")\n",
        "        else:\n",
        "            print(\"enter valid pin to proceed\")\n",
        "            \n",
        "       \n",
        "    if  option==5:\n",
        "        print(\"Thank You!\")\n",
        "        break\n",
        "        \n",
        "else:\n",
        "     print(\"Please Enter Valid pin try again\")\n"
      ]
    }
  ]
}